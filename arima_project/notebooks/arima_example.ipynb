{
 "cells": [
  {
   "cell_type": "markdown",
   "metadata": {},
   "source": [
    "# ARIMA Model Example for Time Series Forecasting\n",
    "\n",
    "This notebook demonstrates how to use the `arima_analyzer` module to perform time series forecasting using an ARIMA model.\n",
    "We will use sample monthly sales data."
   ]
  },
  {
   "cell_type": "code",
   "execution_count": null,
   "metadata": {},
   "outputs": [],
   "source": [
    "import pandas as pd\n",
    "import matplotlib.pyplot as plt\n",
    "import sys\n",
    "\n",
    "# Add src directory to Python path to import arima_analyzer\n",
    "sys.path.append('../src') \n",
    "import arima_analyzer as arima\n",
    "\n",
    "# Configure plots\n",
    "plt.style.use('seaborn-v0_8-whitegrid')\n",
    "%matplotlib inline"
   ]
  },
  {
   "cell_type": "markdown",
   "metadata": {},
   "source": [
    "## 1. Load Data\n",
    "\n",
    "Load the sample monthly sales data using the `load_data` function from our module."
   ]
  },
  {
   "cell_type": "code",
   "execution_count": null,
   "metadata": {},
   "outputs": [],
   "source": [
    "data_filepath = '../data/sample_monthly_sales.csv'\n",
    "date_col = 'Month'\n",
    "value_col = 'Sales'\n",
    "\n",
    "ts = arima.load_data(data_filepath, date_col, value_col)\n",
    "\n",
    "if ts is not None:\n",
    "    print(\"Data loaded successfully:\")\n",
    "    print(ts.head())\n",
    "    ts.plot(figsize=(12, 6), title='Monthly Sales Data')\n",
    "    plt.xlabel('Month')\n",
    "    plt.ylabel('Sales')\n",
    "    plt.show()\n",
    "else:\n",
    "    print(\"Failed to load data.\")"
   ]
  },
  {
   "cell_type": "markdown",
   "metadata": {},
   "source": [
    "## 2. Check for Stationarity\n",
    "\n",
    "We'll use the Augmented Dickey-Fuller (ADF) test to check if the time series is stationary."
   ]
  },
  {
   "cell_type": "code",
   "execution_count": null,
   "metadata": {},
   "outputs": [],
   "source": [
    "if ts is not None:\n",
    "    print(\"Checking stationarity of the original series:\")\n",
    "    p_value_orig = arima.check_stationarity(ts)\n",
    "    \n",
    "    # Optional: If non-stationary, try differencing (though auto_arima can handle this)\n",
    "    # if p_value_orig is not None and p_value_orig > 0.05:\n",
    "    #     print(\"\\nSeries is non-stationary. Let's try differencing once.\")\n",
    "    #     ts_diff, d_val = arima.make_stationary(ts, d=1)\n",
    "    #     if ts_diff is not None:\n",
    "    #         print(f\"Differenced series (d={d_val}):\")\n",
    "    #         ts_diff.plot(figsize=(12,6), title=f'Differenced Sales Data (d={d_val})')\n",
    "    #         plt.show()\n",
    "    #         print(\"Checking stationarity of the differenced series:\")\n",
    "    #         arima.check_stationarity(ts_diff)\n",
    "    # else:\n",
    "    #     print(\"\\nSeries is likely stationary or stationarity check failed.\")\n",
    "else:\n",
    "    print(\"Timeseries not loaded, skipping stationarity check.\")"
   ]
  },
  {
   "cell_type": "markdown",
   "metadata": {},
   "source": [
    "## 3. Find Optimal ARIMA Parameters\n",
    "\n",
    "We'll use `auto_arima` from the `pmdarima` package (wrapped in our module) to find the best (p,d,q) and seasonal (P,D,Q,m) parameters.\n",
    "For this dataset, we'll assume seasonality with m=12 (monthly data)."
   ]
  },
  {
   "cell_type": "code",
   "execution_count": null,
   "metadata": {},
   "outputs": [],
   "source": [
    "optimal_order = None\n",
    "optimal_seasonal_order = None\n",
    "\n",
    "if ts is not None:\n",
    "    # Split data into training and testing sets (e.g., last 12 months for testing)\n",
    "    train_split_ratio = 0.8\n",
    "    split_point = int(len(ts) * train_split_ratio)\n",
    "    \n",
    "    # For auto_arima, it's often better to use as much data as possible to find parameters,\n",
    "    # or at least a substantial part of the training set.\n",
    "    # Here we use the full series to find parameters, then train on the training set.\n",
    "    # Note: auto_arima can determine 'd' and 'D' itself.\n",
    "    \n",
    "    print(f\"Finding optimal parameters using data up to index {len(ts)-1} (the full series)...\")\n",
    "    # Parameters for auto_arima:\n",
    "    # m=12 for monthly seasonality\n",
    "    # seasonal=True to consider seasonal components\n",
    "    # D=1 as a starting point for seasonal differencing, auto_arima can adjust this.\n",
    "    # trace=True to see the fitting process\n",
    "    optimal_order, optimal_seasonal_order = arima.find_optimal_parameters(\n",
    "        ts, \n",
    "        m=12, \n",
    "        seasonal=True, \n",
    "        D=1, # Let auto_arima determine D, but good to provide m\n",
    "        trace=True,\n",
    "        error_action='ignore',\n",
    "        suppress_warnings=True,\n",
    "        stepwise=True\n",
    "    )\n",
    "\n",
    "    if optimal_order:\n",
    "        print(f\"Optimal ARIMA order (p,d,q): {optimal_order}\")\n",
    "        if optimal_seasonal_order:\n",
    "            print(f\"Optimal Seasonal order (P,D,Q,m): {optimal_seasonal_order}\")\n",
    "    else:\n",
    "        print(\"Could not determine optimal parameters automatically. Consider manual analysis or different data.\")\n",
    "else:\n",
    "    print(\"Timeseries not loaded, skipping parameter search.\")"
   ]
  },
  {
   "cell_type": "markdown",
   "metadata": {},
   "source": [
    "## 4. Split Data into Training and Testing Sets\n",
    "\n",
    "We'll use the first part of the data for training the model and the latter part for testing its forecasting accuracy."
   ]
  },
  {
   "cell_type": "code",
   "execution_count": null,
   "metadata": {},
   "outputs": [],
   "source": [
    "train_ts = None\n",
    "test_ts = None\n",
    "n_test_periods = 12 # Number of periods to hold out for testing\n",
    "\n",
    "if ts is not None:\n",
    "    if len(ts) > n_test_periods:\n",
    "        train_ts = ts[:-n_test_periods]\n",
    "        test_ts = ts[-n_test_periods:]\n",
    "        print(f\"Training data length: {len(train_ts)}\")\n",
    "        print(f\"Test data length: {len(test_ts)}\")\n",
    "        \n",
    "        plt.figure(figsize=(12,6))\n",
    "        train_ts.plot(label='Training Data')\n",
    "        test_ts.plot(label='Test Data')\n",
    "        plt.title('Train and Test Split')\n",
    "        plt.legend()\n",
    "        plt.show()\n",
    "    else:\n",
    "        print(f\"Timeseries is too short for a test split of {n_test_periods} periods. Using all data for training and no test set.\")\n",
    "        train_ts = ts # Use all data for training if too short\n",
    "        # test_ts will remain None\n",
    "else:\n",
    "    print(\"Timeseries not loaded, skipping data split.\")"
   ]
  },
  {
   "cell_type": "markdown",
   "metadata": {},
   "source": [
    "## 5. Fit ARIMA Model\n",
    "\n",
    "Now we fit the ARIMA model using the training data and the optimal parameters found."
   ]
  },
  {
   "cell_type": "code",
   "execution_count": null,
   "metadata": {},
   "outputs": [],
   "source": [
    "fitted_model = None\n",
    "if train_ts is not None and optimal_order is not None:\n",
    "    print(f\"Fitting ARIMA with order={optimal_order} and seasonal_order={optimal_seasonal_order}\")\n",
    "    fitted_model = arima.fit_arima_model(train_ts, optimal_order, seasonal_order=optimal_seasonal_order)\n",
    "    \n",
    "    if fitted_model:\n",
    "        print(\"Model fitting complete.\")\n",
    "        # print(fitted_model.summary()) # Summary is already printed by the function\n",
    "    else:\n",
    "        print(\"Model fitting failed.\")\n",
    "elif train_ts is None:\n",
    "    print(\"Training data is not available. Skipping model fitting.\")\n",
    "else:\n",
    "    print(\"Optimal parameters not found. Skipping model fitting.\")"
   ]
  },
  {
   "cell_type": "markdown",
   "metadata": {},
   "source": [
    "## 6. Make Forecasts\n",
    "\n",
    "Using the fitted model, we will forecast the values for the test period (or a few steps ahead if no test set)."
   ]
  },
  {
   "cell_type": "code",
   "execution_count": null,
   "metadata": {},
   "outputs": [],
   "source": [
    "forecast_df = None\n",
    "num_forecast_steps = 0\n",
    "\n",
    "if fitted_model is not None:\n",
    "    if test_ts is not None and not test_ts.empty:\n",
    "        num_forecast_steps = len(test_ts)\n",
    "        print(f\"Forecasting {num_forecast_steps} steps ahead (test period).\")\n",
    "    else:\n",
    "        num_forecast_steps = 12 # Default forecast steps if no test_ts\n",
    "        print(f\"No test data or test data is empty. Forecasting {num_forecast_steps} steps ahead from end of training data.\")\n",
    "        \n",
    "    forecast_df = arima.forecast(fitted_model, steps=num_forecast_steps)\n",
    "    \n",
    "    if forecast_df is not None:\n",
    "        print(\"Forecast generated:\")\n",
    "        print(forecast_df)\n",
    "    else:\n",
    "        print(\"Forecasting failed.\")\n",
    "else:\n",
    "    print(\"Fitted model not available. Skipping forecasting.\")"
   ]
  },
  {
   "cell_type": "markdown",
   "metadata": {},
   "source": [
    "## 7. Evaluate Model\n",
    "\n",
    "If we have a test set and forecasts, we can evaluate the model's performance."
   ]
  },
  {
   "cell_type": "code",
   "execution_count": null,
   "metadata": {},
   "outputs": [],
   "source": [
    "evaluation_results = None\n",
    "if forecast_df is not None and test_ts is not None and not test_ts.empty:\n",
    "    actual_values = test_ts\n",
    "    predicted_values = forecast_df['forecast']\n",
    "    \n",
    "    # Ensure indices match for direct comparison if possible, otherwise rely on evaluate_model's internal handling\n",
    "    if isinstance(actual_values.index, pd.DatetimeIndex) and isinstance(predicted_values.index, pd.DatetimeIndex):\n",
    "         # Align based on index if both are datetime indexed\n",
    "        common_index = actual_values.index.intersection(predicted_values.index)\n",
    "        if not common_index.empty:\n",
    "            actual_values_aligned = actual_values[common_index]\n",
    "            predicted_values_aligned = predicted_values[common_index]\n",
    "            print(f\"Evaluating model on {len(common_index)} common time points.\")\n",
    "        else: # If no common index, means forecast dates don't align with test_ts dates\n",
    "            print(\"Warning: Test set dates and forecast dates do not align. Evaluation might be on mismatched periods.\")\n",
    "            print(f\"Test dates from {test_ts.index.min()} to {test_ts.index.max()}\")\n",
    "            print(f\"Forecast dates from {forecast_df.index.min()} to {forecast_df.index.max()}\")\n",
    "            # Fallback to array comparison, assuming order is correct\n",
    "            actual_values_aligned = actual_values\n",
    "            predicted_values_aligned = predicted_values.iloc[:len(actual_values)] # Ensure same length\n",
    "    else: # If not datetime indexed or one is not\n",
    "        actual_values_aligned = actual_values\n",
    "        predicted_values_aligned = predicted_values.iloc[:len(actual_values)] # Ensure same length\n",
    "\n",
    "    if len(actual_values_aligned) == len(predicted_values_aligned):\n",
    "        evaluation_results = arima.evaluate_model(actual_values_aligned, predicted_values_aligned)\n",
    "        if evaluation_results:\n",
    "            print(f\"RMSE: {evaluation_results['rmse']:.4f}\")\n",
    "            print(f\"MAE: {evaluation_results['mae']:.4f}\")\n",
    "        else:\n",
    "            print(\"Model evaluation failed.\")\n",
    "    else:\n",
    "        print(f\"Skipping evaluation: Length of actual values ({len(actual_values_aligned)}) and predicted values ({len(predicted_values_aligned)}) do not match after alignment.\")\n",
    "\n",
    "elif test_ts is None or test_ts.empty:\n",
    "    print(\"No test data available for evaluation.\")\n",
    "else:\n",
    "    print(\"Forecasts not available. Skipping model evaluation.\")"
   ]
  },
  {
   "cell_type": "markdown",
   "metadata": {},
   "source": [
    "## 8. Visualize Results\n",
    "\n",
    "Plot the original time series, the fitted values (forecasts on training data), and the out-of-sample forecasts."
   ]
  },
  {
   "cell_type": "code",
   "execution_count": null,
   "metadata": {},
   "outputs": [],
   "source": [
    "if ts is not None and fitted_model is not None and forecast_df is not None:\n",
    "    plt.figure(figsize=(15, 8))\n",
    "    \n",
    "    # Plot original data (train + test)\n",
    "    ts.plot(label='Original Data', color='blue')\n",
    "    \n",
    "    # Plot fitted values (in-sample forecast)\n",
    "    # The fitted_model.predict() by default starts from the beginning of the training data.\n",
    "    # We can specify start and end if needed.\n",
    "    # For SARIMAXResults, fitted_model.fittedvalues gives the in-sample predictions.\n",
    "    in_sample_forecasts = fitted_model.fittedvalues\n",
    "    if train_ts is not None: # Plot only if train_ts was defined\n",
    "        in_sample_forecasts.plot(label='Fitted Values (In-sample)', color='green', linestyle='--')\n",
    "\n",
    "    # Plot out-of-sample forecasts\n",
    "    forecast_df['forecast'].plot(label='Out-of-Sample Forecast', color='red')\n",
    "    \n",
    "    # Plot confidence intervals for the forecast\n",
    "    if 'lower_ci' in forecast_df.columns and 'upper_ci' in forecast_df.columns:\n",
    "        plt.fill_between(forecast_df.index, \n",
    "                         forecast_df['lower_ci'], \n",
    "                         forecast_df['upper_ci'], \n",
    "                         color='pink', alpha=0.3, label='Confidence Interval (95%)')\n",
    "\n",
    "    plt.title('Time Series Forecasting with ARIMA')\n",
    "    plt.xlabel('Date')\n",
    "    plt.ylabel(value_col if 'value_col' in globals() else 'Value')\n",
    "    plt.legend(loc='upper left')\n",
    "    plt.grid(True)\n",
    "    plt.show()\n",
    "    \n",
    "elif ts is None:\n",
    "    print(\"Original timeseries not loaded. Cannot plot.\")\n",
    "elif fitted_model is None:\n",
    "    print(\"Model not fitted. Cannot plot fitted values.\")\n",
    "else: # forecast_df is None\n",
    "    print(\"Forecasts not available. Cannot plot full results.\")\n",
    "    # Option to plot just original and fitted if available\n",
    "    if ts is not None and fitted_model is not None:\n",
    "        plt.figure(figsize=(15, 8))\n",
    "        ts.plot(label='Original Data', color='blue')\n",
    "        if hasattr(fitted_model, 'fittedvalues'):\n",
    "             fitted_model.fittedvalues.plot(label='Fitted Values (In-sample)', color='green', linestyle='--')\n",
    "        plt.title('Time Series Data and Fitted Values')\n",
    "        plt.xlabel('Date')\n",
    "        plt.ylabel(value_col if 'value_col' in globals() else 'Value')\n",
    "        plt.legend(loc='upper left')\n",
    "        plt.grid(True)\n",
    "        plt.show()\n"
   ]
  },
  {
   "cell_type": "markdown",
   "metadata": {},
   "source": [
    "---\n",
    "End of Example\n",
    "---"
   ]
  }
 ],
 "metadata": {
  "kernelspec": {
   "display_name": "Python 3",
   "language": "python",
   "name": "python3"
  },
  "language_info": {
   "codemirror_mode": {
    "name": "ipython",
    "version": 3
   },
   "file_extension": ".py",
   "mimetype": "text/x-python",
   "name": "python",
   "nbconvert_exporter": "python",
   "pygments_lexer": "ipython3",
   "version": "3.10.12"
  }
 },
 "nbformat": 4,
 "nbformat_minor": 5
}
